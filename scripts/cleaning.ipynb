{
 "cells": [
  {
   "cell_type": "code",
   "execution_count": 11,
   "metadata": {
    "collapsed": true
   },
   "outputs": [],
   "source": [
    "# Part I\n",
    "import pandas as pd\n",
    "import pickle\n",
    "import os\n",
    "import numpy as np"
   ]
  },
  {
   "cell_type": "code",
   "execution_count": 7,
   "metadata": {
    "collapsed": false
   },
   "outputs": [],
   "source": [
    "def clean_data():\n",
    "    df = pd.read_csv('../datafiles/incidents.csv', parse_dates=['Date'])\n",
    "    df = df.rename(columns=lambda x : x.lower())\n",
    "    \n",
    "    # make some variables \n",
    "    df['time'] = pd.to_datetime(df['time'])\n",
    "    df['hour'] = df['time'].apply(lambda x: x.strftime(\"%H\"))\n",
    "    df['day'] = df['date'].apply(lambda x: x.strftime(\"%d\"))\n",
    "    df['month'] = df['date'].apply(lambda x: x.strftime(\"%m\"))\n",
    "    df['year'] = df['date'].apply(lambda x: x.strftime(\"%y\"))\n",
    "    \n",
    "    df = df.rename(columns={'x': 'longitude', \n",
    "                        'y': 'latitude'})\n",
    "    df.to_pickle('../datafiles/full.p')\n",
    "    \n",
    "    return df\n"
   ]
  },
  {
   "cell_type": "code",
   "execution_count": 19,
   "metadata": {
    "collapsed": true
   },
   "outputs": [],
   "source": [
    "# get validation set, not to be used again until final testing \n",
    "\n",
    "# this function splits the training and testing data so that each day is considered one unit. \n",
    "\n",
    "def make_validation(dataframe):\n",
    "    \"\"\" Returns validation and testing sets \"\"\"\n",
    "    \n",
    "    \n",
    "    tr_gp = dataframe.groupby(['date']).count()\n",
    "    rows = np.random.choice(tr_gp.index.values, replace=False, size = (len(tr_gp * .2))) \n",
    "    validation = dataframe[dataframe.date.isin(rows)]\n",
    "    training = dataframe[-dataframe.date.isin(rows)]\n",
    "    validation.to_pickle('../datafiles/validation.p')\n",
    "    training.to_pickle('../datafiles.training.p')\n",
    "\n",
    "    return validation, training\n",
    "\n",
    "\n",
    "\n",
    "# how do I make this all execute automatically? is my function returning what it should be returning>/"
   ]
  }
 ],
 "metadata": {
  "kernelspec": {
   "display_name": "Python 2",
   "language": "python",
   "name": "python2"
  },
  "language_info": {
   "codemirror_mode": {
    "name": "ipython",
    "version": 2
   },
   "file_extension": ".py",
   "mimetype": "text/x-python",
   "name": "python",
   "nbconvert_exporter": "python",
   "pygments_lexer": "ipython2",
   "version": "2.7.10"
  }
 },
 "nbformat": 4,
 "nbformat_minor": 0
}
